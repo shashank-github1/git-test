{
  "nbformat": 4,
  "nbformat_minor": 0,
  "metadata": {
    "colab": {
      "name": "facies prediction using knn.ipynb",
      "provenance": [],
      "collapsed_sections": [],
      "authorship_tag": "ABX9TyPrFAfn2l2p5F8ntDu+r0Zj",
      "include_colab_link": true
    },
    "kernelspec": {
      "name": "python3",
      "display_name": "Python 3"
    }
  },
  "cells": [
    {
      "cell_type": "markdown",
      "metadata": {
        "id": "view-in-github",
        "colab_type": "text"
      },
      "source": [
        "<a href=\"https://colab.research.google.com/github/shashank-github1/git-test/blob/master/facies_prediction_using_knn.ipynb\" target=\"_parent\"><img src=\"https://colab.research.google.com/assets/colab-badge.svg\" alt=\"Open In Colab\"/></a>"
      ]
    },
    {
      "cell_type": "markdown",
      "metadata": {
        "id": "cKNstAo1tz06",
        "colab_type": "text"
      },
      "source": [
        "I have used Knn algorithm to classify the type of facies based on the log readings."
      ]
    },
    {
      "cell_type": "code",
      "metadata": {
        "id": "UM-TgGKD4qmG",
        "colab_type": "code",
        "colab": {}
      },
      "source": [
        "import numpy as np\n",
        "import pandas as pd\n",
        "import seaborn as sns\n",
        "import matplotlib.pyplot as plt\n",
        "%matplotlib inline\n",
        "from sklearn.preprocessing import StandardScaler\n",
        "from sklearn.model_selection import train_test_split\n",
        "from sklearn.neighbors import KNeighborsClassifier\n",
        "from sklearn.metrics import classification_report,confusion_matrix\n",
        "from sklearn.metrics import f1_score\n",
        "from sklearn.metrics import accuracy_score"
      ],
      "execution_count": 0,
      "outputs": []
    },
    {
      "cell_type": "markdown",
      "metadata": {
        "id": "fgnbIQKwqa2a",
        "colab_type": "text"
      },
      "source": [
        "We have now upladed all the libraries and modules required."
      ]
    },
    {
      "cell_type": "code",
      "metadata": {
        "id": "zX_8FYCOVv-N",
        "colab_type": "code",
        "colab": {}
      },
      "source": [
        "df= pd.read_csv(\"facies.csv\",index_col=0)"
      ],
      "execution_count": 0,
      "outputs": []
    },
    {
      "cell_type": "markdown",
      "metadata": {
        "id": "7yQsjenPqipd",
        "colab_type": "text"
      },
      "source": [
        "We have read the sample data file"
      ]
    },
    {
      "cell_type": "code",
      "metadata": {
        "id": "aGGsHOzcWBXc",
        "colab_type": "code",
        "outputId": "c18f848e-b1d7-40f4-ff0f-5e2bbfa2da6f",
        "colab": {
          "base_uri": "https://localhost:8080/",
          "height": 235
        }
      },
      "source": [
        "df.head()"
      ],
      "execution_count": 277,
      "outputs": [
        {
          "output_type": "execute_result",
          "data": {
            "text/html": [
              "<div>\n",
              "<style scoped>\n",
              "    .dataframe tbody tr th:only-of-type {\n",
              "        vertical-align: middle;\n",
              "    }\n",
              "\n",
              "    .dataframe tbody tr th {\n",
              "        vertical-align: top;\n",
              "    }\n",
              "\n",
              "    .dataframe thead th {\n",
              "        text-align: right;\n",
              "    }\n",
              "</style>\n",
              "<table border=\"1\" class=\"dataframe\">\n",
              "  <thead>\n",
              "    <tr style=\"text-align: right;\">\n",
              "      <th></th>\n",
              "      <th>GR</th>\n",
              "      <th>ILD_log10</th>\n",
              "      <th>DeltaPHI</th>\n",
              "      <th>PHIND</th>\n",
              "      <th>PE</th>\n",
              "      <th>Facies</th>\n",
              "      <th>WellName</th>\n",
              "      <th>FaciesLabel</th>\n",
              "      <th>FaciesDescription</th>\n",
              "    </tr>\n",
              "    <tr>\n",
              "      <th>Depth</th>\n",
              "      <th></th>\n",
              "      <th></th>\n",
              "      <th></th>\n",
              "      <th></th>\n",
              "      <th></th>\n",
              "      <th></th>\n",
              "      <th></th>\n",
              "      <th></th>\n",
              "      <th></th>\n",
              "    </tr>\n",
              "  </thead>\n",
              "  <tbody>\n",
              "    <tr>\n",
              "      <th>2793.0</th>\n",
              "      <td>77.45</td>\n",
              "      <td>0.664</td>\n",
              "      <td>9.9</td>\n",
              "      <td>11.915</td>\n",
              "      <td>4.6</td>\n",
              "      <td>3</td>\n",
              "      <td>SHRIMPLIN</td>\n",
              "      <td>FSiS</td>\n",
              "      <td>Nonmarine fine siltstone</td>\n",
              "    </tr>\n",
              "    <tr>\n",
              "      <th>2793.5</th>\n",
              "      <td>78.26</td>\n",
              "      <td>0.661</td>\n",
              "      <td>14.2</td>\n",
              "      <td>12.565</td>\n",
              "      <td>4.1</td>\n",
              "      <td>3</td>\n",
              "      <td>SHRIMPLIN</td>\n",
              "      <td>FSiS</td>\n",
              "      <td>Nonmarine fine siltstone</td>\n",
              "    </tr>\n",
              "    <tr>\n",
              "      <th>2794.0</th>\n",
              "      <td>79.05</td>\n",
              "      <td>0.658</td>\n",
              "      <td>14.8</td>\n",
              "      <td>13.050</td>\n",
              "      <td>3.6</td>\n",
              "      <td>3</td>\n",
              "      <td>SHRIMPLIN</td>\n",
              "      <td>FSiS</td>\n",
              "      <td>Nonmarine fine siltstone</td>\n",
              "    </tr>\n",
              "    <tr>\n",
              "      <th>2794.5</th>\n",
              "      <td>86.10</td>\n",
              "      <td>0.655</td>\n",
              "      <td>13.9</td>\n",
              "      <td>13.115</td>\n",
              "      <td>3.5</td>\n",
              "      <td>3</td>\n",
              "      <td>SHRIMPLIN</td>\n",
              "      <td>FSiS</td>\n",
              "      <td>Nonmarine fine siltstone</td>\n",
              "    </tr>\n",
              "    <tr>\n",
              "      <th>2795.0</th>\n",
              "      <td>74.58</td>\n",
              "      <td>0.647</td>\n",
              "      <td>13.5</td>\n",
              "      <td>13.300</td>\n",
              "      <td>3.4</td>\n",
              "      <td>3</td>\n",
              "      <td>SHRIMPLIN</td>\n",
              "      <td>FSiS</td>\n",
              "      <td>Nonmarine fine siltstone</td>\n",
              "    </tr>\n",
              "  </tbody>\n",
              "</table>\n",
              "</div>"
            ],
            "text/plain": [
              "           GR  ILD_log10  ...  FaciesLabel         FaciesDescription\n",
              "Depth                     ...                                       \n",
              "2793.0  77.45      0.664  ...         FSiS  Nonmarine fine siltstone\n",
              "2793.5  78.26      0.661  ...         FSiS  Nonmarine fine siltstone\n",
              "2794.0  79.05      0.658  ...         FSiS  Nonmarine fine siltstone\n",
              "2794.5  86.10      0.655  ...         FSiS  Nonmarine fine siltstone\n",
              "2795.0  74.58      0.647  ...         FSiS  Nonmarine fine siltstone\n",
              "\n",
              "[5 rows x 9 columns]"
            ]
          },
          "metadata": {
            "tags": []
          },
          "execution_count": 277
        }
      ]
    },
    {
      "cell_type": "code",
      "metadata": {
        "id": "90bec-y3WDKM",
        "colab_type": "code",
        "colab": {}
      },
      "source": [
        "def func1(x):\n",
        "  if x== \"Nonmarine fine siltstone\":\n",
        "    return 0\n",
        "  elif x== \"Nonmarine course siltstone\":\n",
        "    return 1\n",
        "  elif x== \"Packstone-grainstone\":\n",
        "    return 2\n",
        "  elif x== \"Wackestone\":\n",
        "    return 3\n",
        "  elif x== \"Dolomite\":\n",
        "    return 4\n",
        "  elif x== \"Marine siltstone and shale\":\n",
        "    return 5\n",
        "  elif x== \"Mudstone\":\n",
        "    return 6\n",
        "  elif x== \"Phylloid-algal bafflestone\":\n",
        "    return 7\n",
        "  elif x== \"Nonmarine sandstone\":\n",
        "    return 8\n",
        "  else:\n",
        "    return 9\n"
      ],
      "execution_count": 0,
      "outputs": []
    },
    {
      "cell_type": "markdown",
      "metadata": {
        "id": "n3EYEAmKqtL6",
        "colab_type": "text"
      },
      "source": [
        "Since, the target was given in string, I found it best to convert it to integer values for measurement. I used a basic python function for it."
      ]
    },
    {
      "cell_type": "code",
      "metadata": {
        "id": "90KqEL6wX0bt",
        "colab_type": "code",
        "colab": {}
      },
      "source": [
        "df['target']= df[\"FaciesDescription\"].apply(func1)"
      ],
      "execution_count": 0,
      "outputs": []
    },
    {
      "cell_type": "markdown",
      "metadata": {
        "id": "odEfD8nsq_By",
        "colab_type": "text"
      },
      "source": [
        "Here, I have added a new column- 'target' in the dataframe. I used apply function for this."
      ]
    },
    {
      "cell_type": "code",
      "metadata": {
        "id": "95uN9y4IZmgg",
        "colab_type": "code",
        "outputId": "6e24fb00-49b9-4433-8136-7949df1cded0",
        "colab": {
          "base_uri": "https://localhost:8080/",
          "height": 235
        }
      },
      "source": [
        "df.tail()"
      ],
      "execution_count": 280,
      "outputs": [
        {
          "output_type": "execute_result",
          "data": {
            "text/html": [
              "<div>\n",
              "<style scoped>\n",
              "    .dataframe tbody tr th:only-of-type {\n",
              "        vertical-align: middle;\n",
              "    }\n",
              "\n",
              "    .dataframe tbody tr th {\n",
              "        vertical-align: top;\n",
              "    }\n",
              "\n",
              "    .dataframe thead th {\n",
              "        text-align: right;\n",
              "    }\n",
              "</style>\n",
              "<table border=\"1\" class=\"dataframe\">\n",
              "  <thead>\n",
              "    <tr style=\"text-align: right;\">\n",
              "      <th></th>\n",
              "      <th>GR</th>\n",
              "      <th>ILD_log10</th>\n",
              "      <th>DeltaPHI</th>\n",
              "      <th>PHIND</th>\n",
              "      <th>PE</th>\n",
              "      <th>Facies</th>\n",
              "      <th>WellName</th>\n",
              "      <th>FaciesLabel</th>\n",
              "      <th>FaciesDescription</th>\n",
              "      <th>target</th>\n",
              "    </tr>\n",
              "    <tr>\n",
              "      <th>Depth</th>\n",
              "      <th></th>\n",
              "      <th></th>\n",
              "      <th></th>\n",
              "      <th></th>\n",
              "      <th></th>\n",
              "      <th></th>\n",
              "      <th></th>\n",
              "      <th></th>\n",
              "      <th></th>\n",
              "      <th></th>\n",
              "    </tr>\n",
              "  </thead>\n",
              "  <tbody>\n",
              "    <tr>\n",
              "      <th>3120.5</th>\n",
              "      <td>46.719</td>\n",
              "      <td>0.947</td>\n",
              "      <td>1.828</td>\n",
              "      <td>7.254</td>\n",
              "      <td>3.617</td>\n",
              "      <td>5</td>\n",
              "      <td>CHURCHMAN BIBLE</td>\n",
              "      <td>MS</td>\n",
              "      <td>Mudstone</td>\n",
              "      <td>6</td>\n",
              "    </tr>\n",
              "    <tr>\n",
              "      <th>3121.0</th>\n",
              "      <td>44.563</td>\n",
              "      <td>0.953</td>\n",
              "      <td>2.241</td>\n",
              "      <td>8.013</td>\n",
              "      <td>3.344</td>\n",
              "      <td>5</td>\n",
              "      <td>CHURCHMAN BIBLE</td>\n",
              "      <td>MS</td>\n",
              "      <td>Mudstone</td>\n",
              "      <td>6</td>\n",
              "    </tr>\n",
              "    <tr>\n",
              "      <th>3121.5</th>\n",
              "      <td>49.719</td>\n",
              "      <td>0.964</td>\n",
              "      <td>2.925</td>\n",
              "      <td>8.013</td>\n",
              "      <td>3.190</td>\n",
              "      <td>5</td>\n",
              "      <td>CHURCHMAN BIBLE</td>\n",
              "      <td>MS</td>\n",
              "      <td>Mudstone</td>\n",
              "      <td>6</td>\n",
              "    </tr>\n",
              "    <tr>\n",
              "      <th>3122.0</th>\n",
              "      <td>51.469</td>\n",
              "      <td>0.965</td>\n",
              "      <td>3.083</td>\n",
              "      <td>7.708</td>\n",
              "      <td>3.152</td>\n",
              "      <td>5</td>\n",
              "      <td>CHURCHMAN BIBLE</td>\n",
              "      <td>MS</td>\n",
              "      <td>Mudstone</td>\n",
              "      <td>6</td>\n",
              "    </tr>\n",
              "    <tr>\n",
              "      <th>3122.5</th>\n",
              "      <td>50.031</td>\n",
              "      <td>0.970</td>\n",
              "      <td>2.609</td>\n",
              "      <td>6.668</td>\n",
              "      <td>3.295</td>\n",
              "      <td>5</td>\n",
              "      <td>CHURCHMAN BIBLE</td>\n",
              "      <td>MS</td>\n",
              "      <td>Mudstone</td>\n",
              "      <td>6</td>\n",
              "    </tr>\n",
              "  </tbody>\n",
              "</table>\n",
              "</div>"
            ],
            "text/plain": [
              "            GR  ILD_log10  DeltaPHI  ...  FaciesLabel  FaciesDescription  target\n",
              "Depth                                ...                                        \n",
              "3120.5  46.719      0.947     1.828  ...           MS           Mudstone       6\n",
              "3121.0  44.563      0.953     2.241  ...           MS           Mudstone       6\n",
              "3121.5  49.719      0.964     2.925  ...           MS           Mudstone       6\n",
              "3122.0  51.469      0.965     3.083  ...           MS           Mudstone       6\n",
              "3122.5  50.031      0.970     2.609  ...           MS           Mudstone       6\n",
              "\n",
              "[5 rows x 10 columns]"
            ]
          },
          "metadata": {
            "tags": []
          },
          "execution_count": 280
        }
      ]
    },
    {
      "cell_type": "code",
      "metadata": {
        "id": "FgdIEtxKbV2W",
        "colab_type": "code",
        "colab": {}
      },
      "source": [
        "zero_not_accepted= ['PE']\n",
        "for column in zero_not_accepted:\n",
        "  mean=int(df[column].mean(skipna=True))\n",
        "  df[column]= df[column].replace(np.NaN,mean)"
      ],
      "execution_count": 0,
      "outputs": []
    },
    {
      "cell_type": "markdown",
      "metadata": {
        "id": "NzwdtFxurLP5",
        "colab_type": "text"
      },
      "source": [
        "This step is very important since it replaces the null values with the mean of the rest of the values in that column. Only, the column 'PE' has null values."
      ]
    },
    {
      "cell_type": "code",
      "metadata": {
        "id": "1AHaYzP9aahW",
        "colab_type": "code",
        "colab": {}
      },
      "source": [
        "df2= df.drop(['WellName','FaciesLabel','FaciesDescription'],axis= 1)"
      ],
      "execution_count": 0,
      "outputs": []
    },
    {
      "cell_type": "markdown",
      "metadata": {
        "id": "dHPG21M9ra89",
        "colab_type": "text"
      },
      "source": [
        "These columns contain string values so they are dropped cause there is no use now as we have already converted facies description into integer values."
      ]
    },
    {
      "cell_type": "code",
      "metadata": {
        "id": "sIq8_av0TsIu",
        "colab_type": "code",
        "outputId": "730c926a-591e-4c3b-e9a5-c2937f57bd4e",
        "colab": {
          "base_uri": "https://localhost:8080/",
          "height": 235
        }
      },
      "source": [
        "df2.head()"
      ],
      "execution_count": 283,
      "outputs": [
        {
          "output_type": "execute_result",
          "data": {
            "text/html": [
              "<div>\n",
              "<style scoped>\n",
              "    .dataframe tbody tr th:only-of-type {\n",
              "        vertical-align: middle;\n",
              "    }\n",
              "\n",
              "    .dataframe tbody tr th {\n",
              "        vertical-align: top;\n",
              "    }\n",
              "\n",
              "    .dataframe thead th {\n",
              "        text-align: right;\n",
              "    }\n",
              "</style>\n",
              "<table border=\"1\" class=\"dataframe\">\n",
              "  <thead>\n",
              "    <tr style=\"text-align: right;\">\n",
              "      <th></th>\n",
              "      <th>GR</th>\n",
              "      <th>ILD_log10</th>\n",
              "      <th>DeltaPHI</th>\n",
              "      <th>PHIND</th>\n",
              "      <th>PE</th>\n",
              "      <th>Facies</th>\n",
              "      <th>target</th>\n",
              "    </tr>\n",
              "    <tr>\n",
              "      <th>Depth</th>\n",
              "      <th></th>\n",
              "      <th></th>\n",
              "      <th></th>\n",
              "      <th></th>\n",
              "      <th></th>\n",
              "      <th></th>\n",
              "      <th></th>\n",
              "    </tr>\n",
              "  </thead>\n",
              "  <tbody>\n",
              "    <tr>\n",
              "      <th>2793.0</th>\n",
              "      <td>77.45</td>\n",
              "      <td>0.664</td>\n",
              "      <td>9.9</td>\n",
              "      <td>11.915</td>\n",
              "      <td>4.6</td>\n",
              "      <td>3</td>\n",
              "      <td>0</td>\n",
              "    </tr>\n",
              "    <tr>\n",
              "      <th>2793.5</th>\n",
              "      <td>78.26</td>\n",
              "      <td>0.661</td>\n",
              "      <td>14.2</td>\n",
              "      <td>12.565</td>\n",
              "      <td>4.1</td>\n",
              "      <td>3</td>\n",
              "      <td>0</td>\n",
              "    </tr>\n",
              "    <tr>\n",
              "      <th>2794.0</th>\n",
              "      <td>79.05</td>\n",
              "      <td>0.658</td>\n",
              "      <td>14.8</td>\n",
              "      <td>13.050</td>\n",
              "      <td>3.6</td>\n",
              "      <td>3</td>\n",
              "      <td>0</td>\n",
              "    </tr>\n",
              "    <tr>\n",
              "      <th>2794.5</th>\n",
              "      <td>86.10</td>\n",
              "      <td>0.655</td>\n",
              "      <td>13.9</td>\n",
              "      <td>13.115</td>\n",
              "      <td>3.5</td>\n",
              "      <td>3</td>\n",
              "      <td>0</td>\n",
              "    </tr>\n",
              "    <tr>\n",
              "      <th>2795.0</th>\n",
              "      <td>74.58</td>\n",
              "      <td>0.647</td>\n",
              "      <td>13.5</td>\n",
              "      <td>13.300</td>\n",
              "      <td>3.4</td>\n",
              "      <td>3</td>\n",
              "      <td>0</td>\n",
              "    </tr>\n",
              "  </tbody>\n",
              "</table>\n",
              "</div>"
            ],
            "text/plain": [
              "           GR  ILD_log10  DeltaPHI   PHIND   PE  Facies  target\n",
              "Depth                                                          \n",
              "2793.0  77.45      0.664       9.9  11.915  4.6       3       0\n",
              "2793.5  78.26      0.661      14.2  12.565  4.1       3       0\n",
              "2794.0  79.05      0.658      14.8  13.050  3.6       3       0\n",
              "2794.5  86.10      0.655      13.9  13.115  3.5       3       0\n",
              "2795.0  74.58      0.647      13.5  13.300  3.4       3       0"
            ]
          },
          "metadata": {
            "tags": []
          },
          "execution_count": 283
        }
      ]
    },
    {
      "cell_type": "code",
      "metadata": {
        "id": "VeEu7wqmdhLc",
        "colab_type": "code",
        "colab": {}
      },
      "source": [
        "X= df2.iloc[:, 0:6]\n",
        "Y= df2.iloc[:, 6]\n",
        "X_train, X_test, Y_train, Y_test= train_test_split(X,Y, random_state=0, test_size=0.2)"
      ],
      "execution_count": 0,
      "outputs": []
    },
    {
      "cell_type": "markdown",
      "metadata": {
        "id": "U4VQ3VKvrtxZ",
        "colab_type": "text"
      },
      "source": [
        "80% of data is used fro training and 20% for testing."
      ]
    },
    {
      "cell_type": "code",
      "metadata": {
        "id": "Uq6MWFC7QJTN",
        "colab_type": "code",
        "colab": {}
      },
      "source": [
        "sc_X= StandardScaler()\n",
        "X_train = sc_X.fit_transform(X_train)\n",
        "X_test = sc_X.transform(X_test)"
      ],
      "execution_count": 0,
      "outputs": []
    },
    {
      "cell_type": "markdown",
      "metadata": {
        "id": "F5pspbu7rzq3",
        "colab_type": "text"
      },
      "source": [
        "Scaling is very important for knn algorithm because ultimately we deal with the closeness of the neighbours based on the distance between them"
      ]
    },
    {
      "cell_type": "code",
      "metadata": {
        "id": "bXuyHHSgQyZk",
        "colab_type": "code",
        "outputId": "3bca24b8-bbde-42e9-deae-9716dce05982",
        "colab": {
          "base_uri": "https://localhost:8080/",
          "height": 34
        }
      },
      "source": [
        "import math\n",
        "math.sqrt(len(Y_test))"
      ],
      "execution_count": 286,
      "outputs": [
        {
          "output_type": "execute_result",
          "data": {
            "text/plain": [
              "28.809720581775867"
            ]
          },
          "metadata": {
            "tags": []
          },
          "execution_count": 286
        }
      ]
    },
    {
      "cell_type": "markdown",
      "metadata": {
        "id": "fnRL15HbstSW",
        "colab_type": "text"
      },
      "source": [
        "Hence we Identify k as 27"
      ]
    },
    {
      "cell_type": "code",
      "metadata": {
        "id": "TeMSUJUYUQ-C",
        "colab_type": "code",
        "colab": {}
      },
      "source": [
        "classifier = KNeighborsClassifier(n_neighbors=27, p= 10, metric='minkowski')"
      ],
      "execution_count": 0,
      "outputs": []
    },
    {
      "cell_type": "code",
      "metadata": {
        "id": "x5dGtFWyVV0n",
        "colab_type": "code",
        "outputId": "de28c9d6-9ab4-416a-bc85-22eb9d4ff8b3",
        "colab": {
          "base_uri": "https://localhost:8080/",
          "height": 68
        }
      },
      "source": [
        "classifier.fit(X_train, Y_train)"
      ],
      "execution_count": 288,
      "outputs": [
        {
          "output_type": "execute_result",
          "data": {
            "text/plain": [
              "KNeighborsClassifier(algorithm='auto', leaf_size=30, metric='minkowski',\n",
              "                     metric_params=None, n_jobs=None, n_neighbors=27, p=10,\n",
              "                     weights='uniform')"
            ]
          },
          "metadata": {
            "tags": []
          },
          "execution_count": 288
        }
      ]
    },
    {
      "cell_type": "code",
      "metadata": {
        "id": "UJLKTZtwVjxn",
        "colab_type": "code",
        "outputId": "3d96572f-246c-4d77-8c21-41977c84e0be",
        "colab": {
          "base_uri": "https://localhost:8080/",
          "height": 663
        }
      },
      "source": [
        "Y_pred= classifier.predict(X_test)\n",
        "Y_pred"
      ],
      "execution_count": 289,
      "outputs": [
        {
          "output_type": "execute_result",
          "data": {
            "text/plain": [
              "array([2, 7, 8, 3, 2, 1, 8, 3, 3, 8, 1, 3, 2, 0, 2, 3, 3, 1, 2, 1, 0, 2,\n",
              "       2, 6, 3, 1, 0, 1, 3, 5, 6, 3, 8, 8, 3, 1, 0, 0, 3, 2, 5, 0, 7, 2,\n",
              "       2, 1, 2, 3, 2, 1, 0, 0, 8, 0, 1, 1, 0, 2, 7, 1, 3, 3, 3, 2, 5, 1,\n",
              "       2, 2, 2, 1, 2, 0, 1, 2, 3, 2, 2, 1, 0, 7, 7, 2, 0, 0, 3, 0, 8, 2,\n",
              "       1, 3, 6, 3, 2, 0, 2, 2, 1, 6, 1, 1, 4, 2, 3, 5, 3, 0, 0, 5, 0, 0,\n",
              "       2, 2, 3, 1, 1, 3, 5, 2, 7, 2, 3, 5, 2, 4, 2, 3, 7, 2, 1, 2, 2, 3,\n",
              "       1, 8, 2, 1, 4, 2, 3, 8, 0, 0, 4, 2, 8, 2, 6, 2, 1, 0, 5, 1, 1, 2,\n",
              "       3, 5, 3, 5, 1, 2, 3, 6, 1, 2, 0, 1, 7, 1, 0, 1, 4, 1, 6, 7, 2, 8,\n",
              "       8, 8, 2, 6, 1, 2, 4, 0, 0, 0, 2, 2, 0, 0, 2, 2, 0, 1, 0, 3, 3, 5,\n",
              "       4, 2, 2, 2, 8, 5, 2, 1, 1, 1, 3, 1, 3, 5, 0, 6, 2, 3, 5, 6, 1, 0,\n",
              "       3, 0, 2, 7, 1, 1, 0, 0, 7, 3, 1, 3, 5, 2, 1, 1, 0, 1, 7, 8, 4, 2,\n",
              "       1, 0, 1, 3, 7, 1, 8, 1, 6, 8, 0, 0, 7, 1, 2, 3, 3, 3, 5, 5, 2, 5,\n",
              "       6, 0, 7, 3, 4, 1, 1, 2, 2, 2, 3, 1, 3, 1, 2, 3, 1, 1, 6, 3, 3, 2,\n",
              "       3, 2, 3, 5, 3, 0, 1, 1, 0, 4, 0, 3, 1, 0, 1, 1, 2, 0, 1, 0, 5, 2,\n",
              "       3, 1, 0, 8, 0, 0, 8, 2, 1, 5, 1, 0, 6, 2, 3, 0, 3, 1, 0, 1, 1, 2,\n",
              "       0, 5, 0, 0, 2, 0, 5, 0, 0, 3, 1, 0, 1, 1, 7, 3, 5, 3, 0, 2, 3, 7,\n",
              "       0, 2, 7, 7, 1, 2, 1, 0, 2, 3, 3, 1, 2, 0, 0, 0, 0, 3, 6, 1, 1, 3,\n",
              "       7, 2, 3, 1, 0, 1, 1, 0, 5, 1, 1, 2, 5, 5, 0, 2, 1, 0, 3, 6, 3, 0,\n",
              "       1, 0, 0, 1, 7, 2, 6, 1, 1, 0, 1, 3, 8, 3, 4, 1, 0, 6, 8, 0, 8, 3,\n",
              "       0, 7, 3, 1, 3, 1, 3, 8, 6, 2, 0, 8, 1, 8, 0, 5, 5, 2, 1, 2, 1, 2,\n",
              "       2, 2, 4, 0, 0, 8, 3, 1, 1, 3, 1, 3, 1, 0, 6, 2, 1, 1, 0, 1, 6, 0,\n",
              "       1, 0, 0, 1, 5, 1, 7, 3, 1, 3, 7, 2, 3, 3, 2, 0, 6, 5, 5, 3, 0, 1,\n",
              "       2, 2, 0, 3, 2, 1, 0, 2, 4, 1, 1, 1, 2, 3, 1, 2, 1, 1, 1, 1, 4, 2,\n",
              "       2, 0, 3, 1, 2, 2, 1, 0, 1, 3, 1, 1, 6, 2, 0, 1, 1, 0, 4, 0, 2, 0,\n",
              "       2, 7, 0, 5, 1, 5, 0, 0, 0, 1, 6, 1, 0, 7, 6, 1, 3, 3, 0, 0, 3, 1,\n",
              "       2, 6, 2, 0, 1, 2, 0, 6, 1, 5, 1, 3, 1, 3, 7, 3, 2, 1, 1, 0, 3, 1,\n",
              "       1, 1, 3, 8, 0, 2, 1, 3, 1, 2, 1, 3, 0, 3, 0, 1, 2, 1, 3, 5, 2, 1,\n",
              "       4, 0, 2, 0, 2, 0, 1, 2, 1, 0, 3, 1, 2, 5, 1, 0, 2, 2, 1, 3, 3, 0,\n",
              "       0, 0, 0, 2, 1, 7, 1, 2, 0, 2, 8, 7, 0, 2, 0, 3, 4, 0, 1, 2, 1, 0,\n",
              "       0, 3, 1, 3, 1, 1, 3, 6, 1, 0, 3, 1, 3, 2, 1, 3, 1, 1, 1, 1, 5, 1,\n",
              "       3, 5, 1, 1, 1, 2, 3, 4, 3, 3, 0, 0, 8, 1, 1, 2, 7, 2, 0, 5, 0, 1,\n",
              "       0, 5, 1, 3, 1, 3, 4, 3, 2, 0, 5, 1, 2, 1, 2, 5, 1, 3, 0, 1, 6, 7,\n",
              "       1, 6, 7, 2, 8, 3, 3, 0, 6, 3, 3, 0, 0, 1, 2, 2, 0, 5, 1, 5, 2, 1,\n",
              "       1, 3, 5, 1, 3, 1, 1, 1, 0, 3, 5, 0, 3, 2, 2, 2, 1, 1, 3, 6, 3, 1,\n",
              "       1, 0, 2, 2, 2, 1, 1, 3, 0, 0, 1, 1, 2, 5, 1, 0, 1, 0, 6, 5, 0, 3,\n",
              "       3, 0, 0, 4, 3, 2, 0, 1, 8, 1, 1, 0, 5, 0, 3, 3, 2, 1, 1, 3, 1, 5,\n",
              "       2, 1, 0, 2, 8, 1, 1, 3, 3, 2, 1, 1, 3, 3, 0, 0, 1, 5, 3, 0, 6, 0,\n",
              "       3, 2, 0, 1, 0, 2, 3, 2, 1, 2, 2, 3, 1, 0, 1, 1])"
            ]
          },
          "metadata": {
            "tags": []
          },
          "execution_count": 289
        }
      ]
    },
    {
      "cell_type": "code",
      "metadata": {
        "id": "Jdjty-UeWxcB",
        "colab_type": "code",
        "outputId": "24b6b008-807a-4904-ab7c-c024c055abab",
        "colab": {
          "base_uri": "https://localhost:8080/",
          "height": 187
        }
      },
      "source": [
        "cm = confusion_matrix(Y_test,Y_pred)\n",
        "print(cm)\n",
        "print(f1_score(Y_test, Y_pred, average='micro'))"
      ],
      "execution_count": 290,
      "outputs": [
        {
          "output_type": "stream",
          "text": [
            "[[105  35   0   0   0   1   1   0   0]\n",
            " [ 32 155   0   0   0   0   0   0   0]\n",
            " [  0   0 124   8   1   1   0  11   0]\n",
            " [  0   0   8  95   5   6   9   0   0]\n",
            " [  2   0  11   5  11   2   2   0   0]\n",
            " [ 17   0   0   1   0  31  10   0   0]\n",
            " [  2   0   0  30   0  11  12   0   0]\n",
            " [  0   0   8   0   3   0   0  21   0]\n",
            " [  1  21   0   0   0   0   0   0  32]]\n",
            "0.7060240963855422\n"
          ],
          "name": "stdout"
        }
      ]
    }
  ]
}