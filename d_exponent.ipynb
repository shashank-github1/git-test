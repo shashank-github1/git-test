{
  "nbformat": 4,
  "nbformat_minor": 0,
  "metadata": {
    "colab": {
      "name": "d_exponent.ipynb",
      "provenance": [],
      "collapsed_sections": [],
      "authorship_tag": "ABX9TyPoXI81suziOwgSODlckmeZ",
      "include_colab_link": true
    },
    "kernelspec": {
      "name": "python3",
      "display_name": "Python 3"
    }
  },
  "cells": [
    {
      "cell_type": "markdown",
      "metadata": {
        "id": "view-in-github",
        "colab_type": "text"
      },
      "source": [
        "<a href=\"https://colab.research.google.com/github/shashank-github1/git-test/blob/master/d_exponent.ipynb\" target=\"_parent\"><img src=\"https://colab.research.google.com/assets/colab-badge.svg\" alt=\"Open In Colab\"/></a>"
      ]
    },
    {
      "cell_type": "code",
      "metadata": {
        "id": "UcsoQm5anHLw",
        "colab_type": "code",
        "outputId": "d30cb508-09c7-4454-bb6b-55dce2f55f38",
        "colab": {
          "base_uri": "https://localhost:8080/",
          "height": 71
        }
      },
      "source": [
        "import pandas as pd\n",
        "import numpy as np\n",
        "import matplotlib.pyplot as plt\n",
        "%matplotlib inline\n",
        "from sklearn import linear_model\n",
        "import seaborn as sns"
      ],
      "execution_count": 0,
      "outputs": [
        {
          "output_type": "stream",
          "text": [
            "/usr/local/lib/python3.6/dist-packages/statsmodels/tools/_testing.py:19: FutureWarning: pandas.util.testing is deprecated. Use the functions in the public API at pandas.testing instead.\n",
            "  import pandas.util.testing as tm\n"
          ],
          "name": "stderr"
        }
      ]
    },
    {
      "cell_type": "code",
      "metadata": {
        "id": "xy3Rm2OBnp7l",
        "colab_type": "code",
        "colab": {}
      },
      "source": [
        "df= pd.read_excel(\"d_exponent.xlsx\")"
      ],
      "execution_count": 0,
      "outputs": []
    },
    {
      "cell_type": "code",
      "metadata": {
        "id": "7WSFWMXZntM4",
        "colab_type": "code",
        "outputId": "f567f8a1-71c2-4218-e6be-fc6e8b752ac8",
        "colab": {
          "base_uri": "https://localhost:8080/",
          "height": 204
        }
      },
      "source": [
        "df.head()"
      ],
      "execution_count": 0,
      "outputs": [
        {
          "output_type": "execute_result",
          "data": {
            "text/html": [
              "<div>\n",
              "<style scoped>\n",
              "    .dataframe tbody tr th:only-of-type {\n",
              "        vertical-align: middle;\n",
              "    }\n",
              "\n",
              "    .dataframe tbody tr th {\n",
              "        vertical-align: top;\n",
              "    }\n",
              "\n",
              "    .dataframe thead th {\n",
              "        text-align: right;\n",
              "    }\n",
              "</style>\n",
              "<table border=\"1\" class=\"dataframe\">\n",
              "  <thead>\n",
              "    <tr style=\"text-align: right;\">\n",
              "      <th></th>\n",
              "      <th>DepthHole</th>\n",
              "      <th>WOB</th>\n",
              "      <th>RPM</th>\n",
              "      <th>ROP</th>\n",
              "      <th>BitSize</th>\n",
              "      <th>normal</th>\n",
              "      <th>actual</th>\n",
              "    </tr>\n",
              "  </thead>\n",
              "  <tbody>\n",
              "    <tr>\n",
              "      <th>0</th>\n",
              "      <td>3470.6963</td>\n",
              "      <td>9.8198</td>\n",
              "      <td>83.2972</td>\n",
              "      <td>57.2064</td>\n",
              "      <td>17.5</td>\n",
              "      <td>5</td>\n",
              "      <td>4</td>\n",
              "    </tr>\n",
              "    <tr>\n",
              "      <th>1</th>\n",
              "      <td>3470.8174</td>\n",
              "      <td>9.1595</td>\n",
              "      <td>83.2594</td>\n",
              "      <td>41.6201</td>\n",
              "      <td>17.5</td>\n",
              "      <td>5</td>\n",
              "      <td>4</td>\n",
              "    </tr>\n",
              "    <tr>\n",
              "      <th>2</th>\n",
              "      <td>3470.9785</td>\n",
              "      <td>9.4599</td>\n",
              "      <td>83.0582</td>\n",
              "      <td>52.0443</td>\n",
              "      <td>17.5</td>\n",
              "      <td>5</td>\n",
              "      <td>4</td>\n",
              "    </tr>\n",
              "    <tr>\n",
              "      <th>3</th>\n",
              "      <td>3473.5188</td>\n",
              "      <td>14.6394</td>\n",
              "      <td>82.9063</td>\n",
              "      <td>2.5977</td>\n",
              "      <td>17.5</td>\n",
              "      <td>5</td>\n",
              "      <td>4</td>\n",
              "    </tr>\n",
              "    <tr>\n",
              "      <th>4</th>\n",
              "      <td>3473.8818</td>\n",
              "      <td>12.0835</td>\n",
              "      <td>82.4445</td>\n",
              "      <td>44.1922</td>\n",
              "      <td>17.5</td>\n",
              "      <td>5</td>\n",
              "      <td>4</td>\n",
              "    </tr>\n",
              "  </tbody>\n",
              "</table>\n",
              "</div>"
            ],
            "text/plain": [
              "   DepthHole      WOB      RPM      ROP  BitSize  normal  actual\n",
              "0  3470.6963   9.8198  83.2972  57.2064     17.5       5       4\n",
              "1  3470.8174   9.1595  83.2594  41.6201     17.5       5       4\n",
              "2  3470.9785   9.4599  83.0582  52.0443     17.5       5       4\n",
              "3  3473.5188  14.6394  82.9063   2.5977     17.5       5       4\n",
              "4  3473.8818  12.0835  82.4445  44.1922     17.5       5       4"
            ]
          },
          "metadata": {
            "tags": []
          },
          "execution_count": 3
        }
      ]
    },
    {
      "cell_type": "code",
      "metadata": {
        "id": "PLiPcSNenxI9",
        "colab_type": "code",
        "outputId": "59619644-ddc9-4580-9c98-66c3d38891de",
        "colab": {
          "base_uri": "https://localhost:8080/",
          "height": 255
        }
      },
      "source": [
        "df.describe"
      ],
      "execution_count": 0,
      "outputs": [
        {
          "output_type": "execute_result",
          "data": {
            "text/plain": [
              "<bound method NDFrame.describe of      DepthHole      WOB      RPM      ROP  BitSize  normal  actual\n",
              "0    3470.6963   9.8198  83.2972  57.2064     17.5       5       4\n",
              "1    3470.8174   9.1595  83.2594  41.6201     17.5       5       4\n",
              "2    3470.9785   9.4599  83.0582  52.0443     17.5       5       4\n",
              "3    3473.5188  14.6394  82.9063   2.5977     17.5       5       4\n",
              "4    3473.8818  12.0835  82.4445  44.1922     17.5       5       4\n",
              "..         ...      ...      ...      ...      ...     ...     ...\n",
              "994  3525.1116  18.5180  81.8864   2.6003     17.5       5       4\n",
              "995  3525.2729  18.8462  81.8166  49.4055     17.5       5       4\n",
              "996  3525.2729  22.5165  81.8577  52.0058     17.5       5       4\n",
              "997  3525.2729  20.6521  81.7097  10.4012     17.5       5       4\n",
              "998  3525.3132  20.2744  81.9020   7.8009     17.5       5       4\n",
              "\n",
              "[999 rows x 7 columns]>"
            ]
          },
          "metadata": {
            "tags": []
          },
          "execution_count": 4
        }
      ]
    },
    {
      "cell_type": "code",
      "metadata": {
        "id": "FZznMsFkn0Rx",
        "colab_type": "code",
        "colab": {}
      },
      "source": [
        "df['d_exponent'] = (np.log10(df['ROP']/(60*df['RPM']))/np.log10((12*df['WOB'])/((1000000)*df['BitSize'])))*(df['normal']/df['actual'])"
      ],
      "execution_count": 0,
      "outputs": []
    },
    {
      "cell_type": "code",
      "metadata": {
        "id": "OejMOaOPn35k",
        "colab_type": "code",
        "outputId": "830eef0c-a26c-4707-8483-0099b04d1d0c",
        "colab": {
          "base_uri": "https://localhost:8080/",
          "height": 204
        }
      },
      "source": [
        "df.head()"
      ],
      "execution_count": 0,
      "outputs": [
        {
          "output_type": "execute_result",
          "data": {
            "text/html": [
              "<div>\n",
              "<style scoped>\n",
              "    .dataframe tbody tr th:only-of-type {\n",
              "        vertical-align: middle;\n",
              "    }\n",
              "\n",
              "    .dataframe tbody tr th {\n",
              "        vertical-align: top;\n",
              "    }\n",
              "\n",
              "    .dataframe thead th {\n",
              "        text-align: right;\n",
              "    }\n",
              "</style>\n",
              "<table border=\"1\" class=\"dataframe\">\n",
              "  <thead>\n",
              "    <tr style=\"text-align: right;\">\n",
              "      <th></th>\n",
              "      <th>DepthHole</th>\n",
              "      <th>WOB</th>\n",
              "      <th>RPM</th>\n",
              "      <th>ROP</th>\n",
              "      <th>BitSize</th>\n",
              "      <th>normal</th>\n",
              "      <th>actual</th>\n",
              "      <th>d_exponent</th>\n",
              "    </tr>\n",
              "  </thead>\n",
              "  <tbody>\n",
              "    <tr>\n",
              "      <th>0</th>\n",
              "      <td>3470.6963</td>\n",
              "      <td>9.8198</td>\n",
              "      <td>83.2972</td>\n",
              "      <td>57.2064</td>\n",
              "      <td>17.5</td>\n",
              "      <td>5</td>\n",
              "      <td>4</td>\n",
              "      <td>0.469216</td>\n",
              "    </tr>\n",
              "    <tr>\n",
              "      <th>1</th>\n",
              "      <td>3470.8174</td>\n",
              "      <td>9.1595</td>\n",
              "      <td>83.2594</td>\n",
              "      <td>41.6201</td>\n",
              "      <td>17.5</td>\n",
              "      <td>5</td>\n",
              "      <td>4</td>\n",
              "      <td>0.499637</td>\n",
              "    </tr>\n",
              "    <tr>\n",
              "      <th>2</th>\n",
              "      <td>3470.9785</td>\n",
              "      <td>9.4599</td>\n",
              "      <td>83.0582</td>\n",
              "      <td>52.0443</td>\n",
              "      <td>17.5</td>\n",
              "      <td>5</td>\n",
              "      <td>4</td>\n",
              "      <td>0.477345</td>\n",
              "    </tr>\n",
              "    <tr>\n",
              "      <th>3</th>\n",
              "      <td>3473.5188</td>\n",
              "      <td>14.6394</td>\n",
              "      <td>82.9063</td>\n",
              "      <td>2.5977</td>\n",
              "      <td>17.5</td>\n",
              "      <td>5</td>\n",
              "      <td>4</td>\n",
              "      <td>0.820811</td>\n",
              "    </tr>\n",
              "    <tr>\n",
              "      <th>4</th>\n",
              "      <td>3473.8818</td>\n",
              "      <td>12.0835</td>\n",
              "      <td>82.4445</td>\n",
              "      <td>44.1922</td>\n",
              "      <td>17.5</td>\n",
              "      <td>5</td>\n",
              "      <td>4</td>\n",
              "      <td>0.504010</td>\n",
              "    </tr>\n",
              "  </tbody>\n",
              "</table>\n",
              "</div>"
            ],
            "text/plain": [
              "   DepthHole      WOB      RPM      ROP  BitSize  normal  actual  d_exponent\n",
              "0  3470.6963   9.8198  83.2972  57.2064     17.5       5       4    0.469216\n",
              "1  3470.8174   9.1595  83.2594  41.6201     17.5       5       4    0.499637\n",
              "2  3470.9785   9.4599  83.0582  52.0443     17.5       5       4    0.477345\n",
              "3  3473.5188  14.6394  82.9063   2.5977     17.5       5       4    0.820811\n",
              "4  3473.8818  12.0835  82.4445  44.1922     17.5       5       4    0.504010"
            ]
          },
          "metadata": {
            "tags": []
          },
          "execution_count": 6
        }
      ]
    },
    {
      "cell_type": "code",
      "metadata": {
        "id": "lsuw5WbCn6ww",
        "colab_type": "code",
        "colab": {}
      },
      "source": [
        "X= df[['ROP','RPM','WOB','BitSize']]\n",
        "Y= df['d_exponent']"
      ],
      "execution_count": 0,
      "outputs": []
    },
    {
      "cell_type": "code",
      "metadata": {
        "id": "A1cG7RBin9bP",
        "colab_type": "code",
        "colab": {}
      },
      "source": [
        "from sklearn.model_selection import train_test_split"
      ],
      "execution_count": 0,
      "outputs": []
    },
    {
      "cell_type": "code",
      "metadata": {
        "id": "dZSNssGqoAMS",
        "colab_type": "code",
        "colab": {}
      },
      "source": [
        "X_train, X_test, Y_train, Y_test = train_test_split(X,Y, test_size= 0.3, random_state = 101)"
      ],
      "execution_count": 0,
      "outputs": []
    },
    {
      "cell_type": "code",
      "metadata": {
        "id": "Sue84mbgoCea",
        "colab_type": "code",
        "colab": {}
      },
      "source": [
        "from sklearn import linear_model"
      ],
      "execution_count": 0,
      "outputs": []
    },
    {
      "cell_type": "code",
      "metadata": {
        "id": "6UeNvfFDoJjz",
        "colab_type": "code",
        "colab": {}
      },
      "source": [
        "regr = linear_model.LinearRegression()\n"
      ],
      "execution_count": 0,
      "outputs": []
    },
    {
      "cell_type": "code",
      "metadata": {
        "id": "kx6zaId2oqBv",
        "colab_type": "code",
        "outputId": "332616ef-6a3e-43b3-8e55-602e27f1793a",
        "colab": {
          "base_uri": "https://localhost:8080/",
          "height": 34
        }
      },
      "source": [
        "regr.fit(X_train, Y_train)"
      ],
      "execution_count": 0,
      "outputs": [
        {
          "output_type": "execute_result",
          "data": {
            "text/plain": [
              "LinearRegression(copy_X=True, fit_intercept=True, n_jobs=None, normalize=False)"
            ]
          },
          "metadata": {
            "tags": []
          },
          "execution_count": 13
        }
      ]
    },
    {
      "cell_type": "code",
      "metadata": {
        "id": "4MXmkd1Boyuk",
        "colab_type": "code",
        "colab": {}
      },
      "source": [
        "predicteddexponent= regr.predict([[50,84,13,17.5]])"
      ],
      "execution_count": 0,
      "outputs": []
    },
    {
      "cell_type": "code",
      "metadata": {
        "id": "x58Px8LnpNIf",
        "colab_type": "code",
        "outputId": "f5efdeb3-a58e-484f-e3ef-d3352e4cbb07",
        "colab": {
          "base_uri": "https://localhost:8080/",
          "height": 34
        }
      },
      "source": [
        "print(predicteddexponent)"
      ],
      "execution_count": 0,
      "outputs": [
        {
          "output_type": "stream",
          "text": [
            "[0.49397075]\n"
          ],
          "name": "stdout"
        }
      ]
    },
    {
      "cell_type": "code",
      "metadata": {
        "id": "-yyJIvWZpVSh",
        "colab_type": "code",
        "colab": {}
      },
      "source": [
        "y_p = regr.predict(X_test)"
      ],
      "execution_count": 0,
      "outputs": []
    },
    {
      "cell_type": "code",
      "metadata": {
        "id": "Xk-IXPvyqCKE",
        "colab_type": "code",
        "colab": {}
      },
      "source": [
        "accu = regr.score(X_test,Y_test)"
      ],
      "execution_count": 0,
      "outputs": []
    },
    {
      "cell_type": "code",
      "metadata": {
        "id": "t2-WGpchqOfB",
        "colab_type": "code",
        "outputId": "e4f5e8e5-48ac-4f92-d679-2214a3568efa",
        "colab": {
          "base_uri": "https://localhost:8080/",
          "height": 34
        }
      },
      "source": [
        "print(accu)"
      ],
      "execution_count": 0,
      "outputs": [
        {
          "output_type": "stream",
          "text": [
            "0.8328587478312841\n"
          ],
          "name": "stdout"
        }
      ]
    },
    {
      "cell_type": "code",
      "metadata": {
        "id": "8zZdiSZrqVI0",
        "colab_type": "code",
        "colab": {}
      },
      "source": [
        ""
      ],
      "execution_count": 0,
      "outputs": []
    }
  ]
}