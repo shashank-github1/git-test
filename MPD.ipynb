{
  "nbformat": 4,
  "nbformat_minor": 0,
  "metadata": {
    "colab": {
      "name": "Untitled",
      "provenance": [],
      "authorship_tag": "ABX9TyO4sA3zeX5wc52OB/1UgNG7",
      "include_colab_link": true
    },
    "kernelspec": {
      "name": "python3",
      "display_name": "Python 3"
    }
  },
  "cells": [
    {
      "cell_type": "markdown",
      "metadata": {
        "id": "view-in-github",
        "colab_type": "text"
      },
      "source": [
        "<a href=\"https://colab.research.google.com/github/shashank-github1/git-test/blob/master/MPD.ipynb\" target=\"_parent\"><img src=\"https://colab.research.google.com/assets/colab-badge.svg\" alt=\"Open In Colab\"/></a>"
      ]
    },
    {
      "cell_type": "markdown",
      "metadata": {
        "id": "PFF_F_liF1Ig",
        "colab_type": "text"
      },
      "source": [
        "#This model is for Managed pressure Drilling and will predict when the mud weight used crosses the narrow margin of fracture pressure and pore pressure. This can help to stop any potential hazards like a kick buildup and blowout. Logistic Regression is used here as the algorithm."
      ]
    },
    {
      "cell_type": "code",
      "metadata": {
        "id": "Dnl56F8nBfs7",
        "colab_type": "code",
        "colab": {}
      },
      "source": [
        "import numpy as np\n",
        "import pandas as pd\n",
        "import matplotlib.pyplot as plt\n",
        "%matplotlib inline        \n",
        "#it renders the figure in a note book\n",
        "import seaborn as sns\n",
        "from sklearn.model_selection import train_test_split    \n",
        "#for training our model\n",
        "from sklearn.linear_model import LogisticRegression\n",
        "#I have imported all the libraries and modules needed"
      ],
      "execution_count": 0,
      "outputs": []
    },
    {
      "cell_type": "code",
      "metadata": {
        "id": "Gr9l-XRnLTUz",
        "colab_type": "code",
        "colab": {}
      },
      "source": [
        "df= pd.read_excel(\"MPD DATA.xlsx\", sheet_name='Sheetx')\n",
        "#I have read the data file for this model"
      ],
      "execution_count": 0,
      "outputs": []
    },
    {
      "cell_type": "code",
      "metadata": {
        "id": "w01Gja9VMLYt",
        "colab_type": "code",
        "colab": {}
      },
      "source": [
        "def func1(x):\n",
        "  if x == 'YES':\n",
        "    return 1\n",
        "  else:\n",
        "    return 0\n",
        "#created a function to change yes and no values to 1 & 0 respectively."
      ],
      "execution_count": 0,
      "outputs": []
    },
    {
      "cell_type": "code",
      "metadata": {
        "id": "bge1bSOgQJKR",
        "colab_type": "code",
        "colab": {}
      },
      "source": [
        "df['Column1']= df['Column1'].apply(func1)"
      ],
      "execution_count": 0,
      "outputs": []
    },
    {
      "cell_type": "code",
      "metadata": {
        "id": "YYLK7-4gXcbZ",
        "colab_type": "code",
        "colab": {
          "base_uri": "https://localhost:8080/",
          "height": 204
        },
        "outputId": "d50fde83-e35b-42c9-ad21-1f9d48514ddd"
      },
      "source": [
        "df.head()"
      ],
      "execution_count": 21,
      "outputs": [
        {
          "output_type": "execute_result",
          "data": {
            "text/html": [
              "<div>\n",
              "<style scoped>\n",
              "    .dataframe tbody tr th:only-of-type {\n",
              "        vertical-align: middle;\n",
              "    }\n",
              "\n",
              "    .dataframe tbody tr th {\n",
              "        vertical-align: top;\n",
              "    }\n",
              "\n",
              "    .dataframe thead th {\n",
              "        text-align: right;\n",
              "    }\n",
              "</style>\n",
              "<table border=\"1\" class=\"dataframe\">\n",
              "  <thead>\n",
              "    <tr style=\"text-align: right;\">\n",
              "      <th></th>\n",
              "      <th>Depth</th>\n",
              "      <th>Pore pressure</th>\n",
              "      <th>Mud wt2</th>\n",
              "      <th>Frcture grd.</th>\n",
              "      <th>Overburden Grd.</th>\n",
              "      <th>Column1</th>\n",
              "      <th>Unnamed: 6</th>\n",
              "      <th>Unnamed: 7</th>\n",
              "      <th>Unnamed: 8</th>\n",
              "    </tr>\n",
              "  </thead>\n",
              "  <tbody>\n",
              "    <tr>\n",
              "      <th>0</th>\n",
              "      <td>196.000000</td>\n",
              "      <td>1.030093</td>\n",
              "      <td>1.192130</td>\n",
              "      <td>1.203704</td>\n",
              "      <td>1.307870</td>\n",
              "      <td>1</td>\n",
              "      <td>NaN</td>\n",
              "      <td>NaN</td>\n",
              "      <td>YES</td>\n",
              "    </tr>\n",
              "    <tr>\n",
              "      <th>1</th>\n",
              "      <td>214.666667</td>\n",
              "      <td>1.307870</td>\n",
              "      <td>1.030093</td>\n",
              "      <td>1.197917</td>\n",
              "      <td>1.255787</td>\n",
              "      <td>1</td>\n",
              "      <td>NaN</td>\n",
              "      <td>NaN</td>\n",
              "      <td>NO</td>\n",
              "    </tr>\n",
              "    <tr>\n",
              "      <th>2</th>\n",
              "      <td>233.333333</td>\n",
              "      <td>1.348380</td>\n",
              "      <td>1.030093</td>\n",
              "      <td>1.032986</td>\n",
              "      <td>1.197917</td>\n",
              "      <td>1</td>\n",
              "      <td>NaN</td>\n",
              "      <td>NaN</td>\n",
              "      <td>NaN</td>\n",
              "    </tr>\n",
              "    <tr>\n",
              "      <th>3</th>\n",
              "      <td>252.000000</td>\n",
              "      <td>1.273148</td>\n",
              "      <td>1.383102</td>\n",
              "      <td>1.030093</td>\n",
              "      <td>1.203704</td>\n",
              "      <td>0</td>\n",
              "      <td>NaN</td>\n",
              "      <td>NaN</td>\n",
              "      <td>NaN</td>\n",
              "    </tr>\n",
              "    <tr>\n",
              "      <th>4</th>\n",
              "      <td>270.666667</td>\n",
              "      <td>1.313657</td>\n",
              "      <td>1.452546</td>\n",
              "      <td>1.030093</td>\n",
              "      <td>1.203704</td>\n",
              "      <td>0</td>\n",
              "      <td>NaN</td>\n",
              "      <td>NaN</td>\n",
              "      <td>NaN</td>\n",
              "    </tr>\n",
              "  </tbody>\n",
              "</table>\n",
              "</div>"
            ],
            "text/plain": [
              "       Depth   Pore pressure   Mud wt2  ...  Unnamed: 6  Unnamed: 7  Unnamed: 8\n",
              "0  196.000000       1.030093  1.192130  ...         NaN         NaN         YES\n",
              "1  214.666667       1.307870  1.030093  ...         NaN         NaN          NO\n",
              "2  233.333333       1.348380  1.030093  ...         NaN         NaN         NaN\n",
              "3  252.000000       1.273148  1.383102  ...         NaN         NaN         NaN\n",
              "4  270.666667       1.313657  1.452546  ...         NaN         NaN         NaN\n",
              "\n",
              "[5 rows x 9 columns]"
            ]
          },
          "metadata": {
            "tags": []
          },
          "execution_count": 21
        }
      ]
    },
    {
      "cell_type": "code",
      "metadata": {
        "id": "YqLdzyVHXg6G",
        "colab_type": "code",
        "colab": {}
      },
      "source": [
        "#Column1= 1 means that mud weight is in between narrow margin of pore pressure and frac. pressure.\n",
        "#Column1= o means that mud weight is outside the window and hence it needs to be changed.\n"
      ],
      "execution_count": 0,
      "outputs": []
    },
    {
      "cell_type": "code",
      "metadata": {
        "id": "h3UiePeZgoVi",
        "colab_type": "code",
        "colab": {
          "base_uri": "https://localhost:8080/",
          "height": 68
        },
        "outputId": "51285c47-ea74-4e74-d40a-d4aa61533cbe"
      },
      "source": [
        "df.columns"
      ],
      "execution_count": 34,
      "outputs": [
        {
          "output_type": "execute_result",
          "data": {
            "text/plain": [
              "Index(['Depth ', 'Pore pressure', 'Mud wt2', 'Frcture grd.', 'Overburden Grd.',\n",
              "       'Column1'],\n",
              "      dtype='object')"
            ]
          },
          "metadata": {
            "tags": []
          },
          "execution_count": 34
        }
      ]
    },
    {
      "cell_type": "code",
      "metadata": {
        "id": "tRHUQFU8i2iM",
        "colab_type": "code",
        "colab": {
          "base_uri": "https://localhost:8080/",
          "height": 255
        },
        "outputId": "da597386-c7d3-4deb-a593-592f754d3626"
      },
      "source": [
        "df.describe"
      ],
      "execution_count": 35,
      "outputs": [
        {
          "output_type": "execute_result",
          "data": {
            "text/plain": [
              "<bound method NDFrame.describe of           Depth   Pore pressure  ...  Overburden Grd.  Column1\n",
              "0     196.000000       1.030093  ...         1.307870        1\n",
              "1     214.666667       1.307870  ...         1.255787        1\n",
              "2     233.333333       1.348380  ...         1.197917        1\n",
              "3     252.000000       1.273148  ...         1.203704        0\n",
              "4     270.666667       1.313657  ...         1.203704        0\n",
              "..           ...            ...  ...              ...      ...\n",
              "156  3089.333333       2.060185  ...         1.504630        0\n",
              "157  3126.666667       1.770833  ...         1.504630        0\n",
              "158  3192.000000       1.770833  ...         1.498843        0\n",
              "159  3220.000000       1.776620  ...         1.498843        0\n",
              "160  3266.666667       1.782407  ...         1.782407        1\n",
              "\n",
              "[161 rows x 6 columns]>"
            ]
          },
          "metadata": {
            "tags": []
          },
          "execution_count": 35
        }
      ]
    },
    {
      "cell_type": "code",
      "metadata": {
        "id": "OrnRv1Oyi4xD",
        "colab_type": "code",
        "colab": {}
      },
      "source": [
        "#assigning our x and y values\n",
        "X = df[['Depth ', 'Pore pressure', 'Mud wt2', 'Frcture grd.', 'Overburden Grd.']]\n",
        "Y = df[['Column1']]"
      ],
      "execution_count": 0,
      "outputs": []
    },
    {
      "cell_type": "code",
      "metadata": {
        "id": "eS8kENjNkTvy",
        "colab_type": "code",
        "colab": {}
      },
      "source": [
        "X_train, X_test, Y_train, Y_test = train_test_split(X,Y, test_size=0.3, random_state= 101)"
      ],
      "execution_count": 0,
      "outputs": []
    },
    {
      "cell_type": "code",
      "metadata": {
        "id": "QbN8uL-amN24",
        "colab_type": "code",
        "colab": {}
      },
      "source": [
        "# I have trained the model that I built."
      ],
      "execution_count": 0,
      "outputs": []
    },
    {
      "cell_type": "code",
      "metadata": {
        "id": "Lh3DOthslGqZ",
        "colab_type": "code",
        "colab": {}
      },
      "source": [
        "Logisreg= LogisticRegression()"
      ],
      "execution_count": 0,
      "outputs": []
    },
    {
      "cell_type": "code",
      "metadata": {
        "id": "TnqW0t6blQIh",
        "colab_type": "code",
        "colab": {
          "base_uri": "https://localhost:8080/",
          "height": 292
        },
        "outputId": "6cf2f27b-0b8a-44e5-f9c4-da908b37f825"
      },
      "source": [
        "Logisreg.fit(X_train,Y_train)"
      ],
      "execution_count": 41,
      "outputs": [
        {
          "output_type": "stream",
          "text": [
            "/usr/local/lib/python3.6/dist-packages/sklearn/utils/validation.py:760: DataConversionWarning: A column-vector y was passed when a 1d array was expected. Please change the shape of y to (n_samples, ), for example using ravel().\n",
            "  y = column_or_1d(y, warn=True)\n",
            "/usr/local/lib/python3.6/dist-packages/sklearn/linear_model/_logistic.py:940: ConvergenceWarning: lbfgs failed to converge (status=1):\n",
            "STOP: TOTAL NO. of ITERATIONS REACHED LIMIT.\n",
            "\n",
            "Increase the number of iterations (max_iter) or scale the data as shown in:\n",
            "    https://scikit-learn.org/stable/modules/preprocessing.html\n",
            "Please also refer to the documentation for alternative solver options:\n",
            "    https://scikit-learn.org/stable/modules/linear_model.html#logistic-regression\n",
            "  extra_warning_msg=_LOGISTIC_SOLVER_CONVERGENCE_MSG)\n"
          ],
          "name": "stderr"
        },
        {
          "output_type": "execute_result",
          "data": {
            "text/plain": [
              "LogisticRegression(C=1.0, class_weight=None, dual=False, fit_intercept=True,\n",
              "                   intercept_scaling=1, l1_ratio=None, max_iter=100,\n",
              "                   multi_class='auto', n_jobs=None, penalty='l2',\n",
              "                   random_state=None, solver='lbfgs', tol=0.0001, verbose=0,\n",
              "                   warm_start=False)"
            ]
          },
          "metadata": {
            "tags": []
          },
          "execution_count": 41
        }
      ]
    },
    {
      "cell_type": "code",
      "metadata": {
        "id": "AFGQuDMElaK-",
        "colab_type": "code",
        "colab": {}
      },
      "source": [
        "a= Logisreg.predict(X_test)\n",
        "# We have the predictions now"
      ],
      "execution_count": 0,
      "outputs": []
    },
    {
      "cell_type": "code",
      "metadata": {
        "id": "44L4HKURmog5",
        "colab_type": "code",
        "colab": {}
      },
      "source": [
        "accuracy= Logisreg.score(X_test, Y_test)\n",
        "#We are calculating accuracy based on the testing"
      ],
      "execution_count": 0,
      "outputs": []
    },
    {
      "cell_type": "code",
      "metadata": {
        "id": "JEqb2k5Lm5XG",
        "colab_type": "code",
        "colab": {
          "base_uri": "https://localhost:8080/",
          "height": 34
        },
        "outputId": "a0f188f1-e79a-4756-9613-8f75219768ee"
      },
      "source": [
        "print(accuracy)"
      ],
      "execution_count": 44,
      "outputs": [
        {
          "output_type": "stream",
          "text": [
            "0.9795918367346939\n"
          ],
          "name": "stdout"
        }
      ]
    },
    {
      "cell_type": "code",
      "metadata": {
        "id": "6Mrd9Ys0nNRm",
        "colab_type": "code",
        "colab": {}
      },
      "source": [
        "#Our model has 97.95% accuracy"
      ],
      "execution_count": 0,
      "outputs": []
    }
  ]
}