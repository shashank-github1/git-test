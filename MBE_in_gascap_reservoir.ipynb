{
  "nbformat": 4,
  "nbformat_minor": 0,
  "metadata": {
    "colab": {
      "name": "MBE_in_gascap_reservoir.ipynb",
      "provenance": [],
      "collapsed_sections": [],
      "authorship_tag": "ABX9TyPMwq+my3JNNfefwHx9Se4X",
      "include_colab_link": true
    },
    "kernelspec": {
      "name": "python3",
      "display_name": "Python 3"
    }
  },
  "cells": [
    {
      "cell_type": "markdown",
      "metadata": {
        "id": "view-in-github",
        "colab_type": "text"
      },
      "source": [
        "<a href=\"https://colab.research.google.com/github/shashank-github1/git-test/blob/master/MBE_in_gascap_reservoir.ipynb\" target=\"_parent\"><img src=\"https://colab.research.google.com/assets/colab-badge.svg\" alt=\"Open In Colab\"/></a>"
      ]
    },
    {
      "cell_type": "markdown",
      "metadata": {
        "id": "L982tma93s2L",
        "colab_type": "text"
      },
      "source": [
        "We will be finding Initial oil and initial gas in place by using material balance equation in this gas-cap-drive reservoir where the following PVT data is given to us."
      ]
    },
    {
      "cell_type": "code",
      "metadata": {
        "id": "OdkzlVSVYxvA",
        "colab_type": "code",
        "colab": {}
      },
      "source": [
        "import numpy as np\n",
        "import matplotlib.pyplot as plt\n",
        "%matplotlib inline\n",
        "import pandas as pd"
      ],
      "execution_count": 0,
      "outputs": []
    },
    {
      "cell_type": "markdown",
      "metadata": {
        "id": "PKCCpKfh4I1D",
        "colab_type": "text"
      },
      "source": [
        "We have imported the libraries that we need."
      ]
    },
    {
      "cell_type": "code",
      "metadata": {
        "id": "hNu0w4xJaLiB",
        "colab_type": "code",
        "colab": {
          "base_uri": "https://localhost:8080/",
          "height": 263
        },
        "outputId": "5b8176a8-94ad-47ae-fd57-6bfa30f8d872"
      },
      "source": [
        "df = pd.read_excel('Book2.xlsx')\n",
        "df"
      ],
      "execution_count": 168,
      "outputs": [
        {
          "output_type": "execute_result",
          "data": {
            "text/html": [
              "<div>\n",
              "<style scoped>\n",
              "    .dataframe tbody tr th:only-of-type {\n",
              "        vertical-align: middle;\n",
              "    }\n",
              "\n",
              "    .dataframe tbody tr th {\n",
              "        vertical-align: top;\n",
              "    }\n",
              "\n",
              "    .dataframe thead th {\n",
              "        text-align: right;\n",
              "    }\n",
              "</style>\n",
              "<table border=\"1\" class=\"dataframe\">\n",
              "  <thead>\n",
              "    <tr style=\"text-align: right;\">\n",
              "      <th></th>\n",
              "      <th>Pressure psi</th>\n",
              "      <th>Np (MMSTB)</th>\n",
              "      <th>Rp (scf/STB)</th>\n",
              "      <th>Bo (RB/STB)</th>\n",
              "      <th>Rs (scf/STB)</th>\n",
              "      <th>Bg (RB/scf)</th>\n",
              "    </tr>\n",
              "  </thead>\n",
              "  <tbody>\n",
              "    <tr>\n",
              "      <th>0</th>\n",
              "      <td>3330</td>\n",
              "      <td>0.000</td>\n",
              "      <td>0</td>\n",
              "      <td>1.2511</td>\n",
              "      <td>510</td>\n",
              "      <td>0.00087</td>\n",
              "    </tr>\n",
              "    <tr>\n",
              "      <th>1</th>\n",
              "      <td>3150</td>\n",
              "      <td>3.295</td>\n",
              "      <td>1050</td>\n",
              "      <td>1.2353</td>\n",
              "      <td>477</td>\n",
              "      <td>0.00092</td>\n",
              "    </tr>\n",
              "    <tr>\n",
              "      <th>2</th>\n",
              "      <td>3000</td>\n",
              "      <td>5.903</td>\n",
              "      <td>1060</td>\n",
              "      <td>1.2222</td>\n",
              "      <td>450</td>\n",
              "      <td>0.00096</td>\n",
              "    </tr>\n",
              "    <tr>\n",
              "      <th>3</th>\n",
              "      <td>2850</td>\n",
              "      <td>8.852</td>\n",
              "      <td>1160</td>\n",
              "      <td>1.2122</td>\n",
              "      <td>425</td>\n",
              "      <td>0.00101</td>\n",
              "    </tr>\n",
              "    <tr>\n",
              "      <th>4</th>\n",
              "      <td>2700</td>\n",
              "      <td>11.503</td>\n",
              "      <td>1235</td>\n",
              "      <td>1.2022</td>\n",
              "      <td>401</td>\n",
              "      <td>0.00107</td>\n",
              "    </tr>\n",
              "    <tr>\n",
              "      <th>5</th>\n",
              "      <td>2550</td>\n",
              "      <td>14.513</td>\n",
              "      <td>1265</td>\n",
              "      <td>1.1922</td>\n",
              "      <td>375</td>\n",
              "      <td>0.00113</td>\n",
              "    </tr>\n",
              "    <tr>\n",
              "      <th>6</th>\n",
              "      <td>2400</td>\n",
              "      <td>17.730</td>\n",
              "      <td>1300</td>\n",
              "      <td>1.1822</td>\n",
              "      <td>352</td>\n",
              "      <td>0.00120</td>\n",
              "    </tr>\n",
              "  </tbody>\n",
              "</table>\n",
              "</div>"
            ],
            "text/plain": [
              "   Pressure psi  Np (MMSTB)  ...  Rs (scf/STB)  Bg (RB/scf)\n",
              "0          3330       0.000  ...           510      0.00087\n",
              "1          3150       3.295  ...           477      0.00092\n",
              "2          3000       5.903  ...           450      0.00096\n",
              "3          2850       8.852  ...           425      0.00101\n",
              "4          2700      11.503  ...           401      0.00107\n",
              "5          2550      14.513  ...           375      0.00113\n",
              "6          2400      17.730  ...           352      0.00120\n",
              "\n",
              "[7 rows x 6 columns]"
            ]
          },
          "metadata": {
            "tags": []
          },
          "execution_count": 168
        }
      ]
    },
    {
      "cell_type": "markdown",
      "metadata": {
        "id": "KEKJs8JA4OQr",
        "colab_type": "text"
      },
      "source": [
        "We have read the excel file containing the PVT parameters at different pressures."
      ]
    },
    {
      "cell_type": "code",
      "metadata": {
        "id": "4Ww5Rybva_hg",
        "colab_type": "code",
        "colab": {}
      },
      "source": [
        "boi = 1.2511\n",
        "bgi = .00087\n",
        "Rsi = 510"
      ],
      "execution_count": 0,
      "outputs": []
    },
    {
      "cell_type": "markdown",
      "metadata": {
        "id": "FaEvUQYD4au4",
        "colab_type": "text"
      },
      "source": [
        "We have written the initial values of FVF of oil, FVF of gas and gas solubility at initial pressure from the table."
      ]
    },
    {
      "cell_type": "code",
      "metadata": {
        "id": "XDjpZ6mwd0b5",
        "colab_type": "code",
        "colab": {}
      },
      "source": [
        "df['Eg'] = (boi/bgi) * (df['Bg (RB/scf)']-bgi)\n",
        "df['Eo'] = (df['Bo (RB/STB)']- boi) + (( Rsi - df['Rs (scf/STB)']) * df['Bg (RB/scf)'])\n",
        "df['F'] = (df['Np (MMSTB)']*1000000.0) * (df['Bo (RB/STB)'] + ((df['Rp (scf/STB)'] - df['Rs (scf/STB)']) * df['Bg (RB/scf)']))"
      ],
      "execution_count": 0,
      "outputs": []
    },
    {
      "cell_type": "markdown",
      "metadata": {
        "id": "O50T3q475CGb",
        "colab_type": "text"
      },
      "source": [
        "Here, we have calculated the values of Eo (expansion of oi), Eg (expansion of gas cap) & F (underground withdrawal) by the use material balance equation modification as given by Havlena and Odeh (1963)."
      ]
    },
    {
      "cell_type": "code",
      "metadata": {
        "id": "B_e6MoIje8Ph",
        "colab_type": "code",
        "colab": {
          "base_uri": "https://localhost:8080/",
          "height": 219
        },
        "outputId": "4834b496-a888-43c5-d0a0-404ac9f20211"
      },
      "source": [
        "df.head()"
      ],
      "execution_count": 171,
      "outputs": [
        {
          "output_type": "execute_result",
          "data": {
            "text/html": [
              "<div>\n",
              "<style scoped>\n",
              "    .dataframe tbody tr th:only-of-type {\n",
              "        vertical-align: middle;\n",
              "    }\n",
              "\n",
              "    .dataframe tbody tr th {\n",
              "        vertical-align: top;\n",
              "    }\n",
              "\n",
              "    .dataframe thead th {\n",
              "        text-align: right;\n",
              "    }\n",
              "</style>\n",
              "<table border=\"1\" class=\"dataframe\">\n",
              "  <thead>\n",
              "    <tr style=\"text-align: right;\">\n",
              "      <th></th>\n",
              "      <th>Pressure psi</th>\n",
              "      <th>Np (MMSTB)</th>\n",
              "      <th>Rp (scf/STB)</th>\n",
              "      <th>Bo (RB/STB)</th>\n",
              "      <th>Rs (scf/STB)</th>\n",
              "      <th>Bg (RB/scf)</th>\n",
              "      <th>Eg</th>\n",
              "      <th>Eo</th>\n",
              "      <th>F</th>\n",
              "    </tr>\n",
              "  </thead>\n",
              "  <tbody>\n",
              "    <tr>\n",
              "      <th>0</th>\n",
              "      <td>3330</td>\n",
              "      <td>0.000</td>\n",
              "      <td>0</td>\n",
              "      <td>1.2511</td>\n",
              "      <td>510</td>\n",
              "      <td>0.00087</td>\n",
              "      <td>0.000000</td>\n",
              "      <td>0.00000</td>\n",
              "      <td>0.00</td>\n",
              "    </tr>\n",
              "    <tr>\n",
              "      <th>1</th>\n",
              "      <td>3150</td>\n",
              "      <td>3.295</td>\n",
              "      <td>1050</td>\n",
              "      <td>1.2353</td>\n",
              "      <td>477</td>\n",
              "      <td>0.00092</td>\n",
              "      <td>0.071902</td>\n",
              "      <td>0.01456</td>\n",
              "      <td>5807305.70</td>\n",
              "    </tr>\n",
              "    <tr>\n",
              "      <th>2</th>\n",
              "      <td>3000</td>\n",
              "      <td>5.903</td>\n",
              "      <td>1060</td>\n",
              "      <td>1.2222</td>\n",
              "      <td>450</td>\n",
              "      <td>0.00096</td>\n",
              "      <td>0.129424</td>\n",
              "      <td>0.02870</td>\n",
              "      <td>10671443.40</td>\n",
              "    </tr>\n",
              "    <tr>\n",
              "      <th>3</th>\n",
              "      <td>2850</td>\n",
              "      <td>8.852</td>\n",
              "      <td>1160</td>\n",
              "      <td>1.2122</td>\n",
              "      <td>425</td>\n",
              "      <td>0.00101</td>\n",
              "      <td>0.201326</td>\n",
              "      <td>0.04695</td>\n",
              "      <td>17301676.60</td>\n",
              "    </tr>\n",
              "    <tr>\n",
              "      <th>4</th>\n",
              "      <td>2700</td>\n",
              "      <td>11.503</td>\n",
              "      <td>1235</td>\n",
              "      <td>1.2022</td>\n",
              "      <td>401</td>\n",
              "      <td>0.00107</td>\n",
              "      <td>0.287609</td>\n",
              "      <td>0.06773</td>\n",
              "      <td>24093953.74</td>\n",
              "    </tr>\n",
              "  </tbody>\n",
              "</table>\n",
              "</div>"
            ],
            "text/plain": [
              "   Pressure psi  Np (MMSTB)  Rp (scf/STB)  ...        Eg       Eo            F\n",
              "0          3330       0.000             0  ...  0.000000  0.00000         0.00\n",
              "1          3150       3.295          1050  ...  0.071902  0.01456   5807305.70\n",
              "2          3000       5.903          1060  ...  0.129424  0.02870  10671443.40\n",
              "3          2850       8.852          1160  ...  0.201326  0.04695  17301676.60\n",
              "4          2700      11.503          1235  ...  0.287609  0.06773  24093953.74\n",
              "\n",
              "[5 rows x 9 columns]"
            ]
          },
          "metadata": {
            "tags": []
          },
          "execution_count": 171
        }
      ]
    },
    {
      "cell_type": "code",
      "metadata": {
        "id": "FML-d3aRlsBZ",
        "colab_type": "code",
        "colab": {
          "base_uri": "https://localhost:8080/",
          "height": 239
        },
        "outputId": "5473ba45-82fa-4d16-8d49-040f33b7e347"
      },
      "source": [
        "df['F/Eo'] = df['F']/df['Eo']\n",
        "df['Eg/Eo'] = df['Eg']/df['Eo']\n",
        "df.head()"
      ],
      "execution_count": 172,
      "outputs": [
        {
          "output_type": "execute_result",
          "data": {
            "text/html": [
              "<div>\n",
              "<style scoped>\n",
              "    .dataframe tbody tr th:only-of-type {\n",
              "        vertical-align: middle;\n",
              "    }\n",
              "\n",
              "    .dataframe tbody tr th {\n",
              "        vertical-align: top;\n",
              "    }\n",
              "\n",
              "    .dataframe thead th {\n",
              "        text-align: right;\n",
              "    }\n",
              "</style>\n",
              "<table border=\"1\" class=\"dataframe\">\n",
              "  <thead>\n",
              "    <tr style=\"text-align: right;\">\n",
              "      <th></th>\n",
              "      <th>Pressure psi</th>\n",
              "      <th>Np (MMSTB)</th>\n",
              "      <th>Rp (scf/STB)</th>\n",
              "      <th>Bo (RB/STB)</th>\n",
              "      <th>Rs (scf/STB)</th>\n",
              "      <th>Bg (RB/scf)</th>\n",
              "      <th>Eg</th>\n",
              "      <th>Eo</th>\n",
              "      <th>F</th>\n",
              "      <th>F/Eo</th>\n",
              "      <th>Eg/Eo</th>\n",
              "    </tr>\n",
              "  </thead>\n",
              "  <tbody>\n",
              "    <tr>\n",
              "      <th>0</th>\n",
              "      <td>3330</td>\n",
              "      <td>0.000</td>\n",
              "      <td>0</td>\n",
              "      <td>1.2511</td>\n",
              "      <td>510</td>\n",
              "      <td>0.00087</td>\n",
              "      <td>0.000000</td>\n",
              "      <td>0.00000</td>\n",
              "      <td>0.00</td>\n",
              "      <td>NaN</td>\n",
              "      <td>NaN</td>\n",
              "    </tr>\n",
              "    <tr>\n",
              "      <th>1</th>\n",
              "      <td>3150</td>\n",
              "      <td>3.295</td>\n",
              "      <td>1050</td>\n",
              "      <td>1.2353</td>\n",
              "      <td>477</td>\n",
              "      <td>0.00092</td>\n",
              "      <td>0.071902</td>\n",
              "      <td>0.01456</td>\n",
              "      <td>5807305.70</td>\n",
              "      <td>3.988534e+08</td>\n",
              "      <td>4.938345</td>\n",
              "    </tr>\n",
              "    <tr>\n",
              "      <th>2</th>\n",
              "      <td>3000</td>\n",
              "      <td>5.903</td>\n",
              "      <td>1060</td>\n",
              "      <td>1.2222</td>\n",
              "      <td>450</td>\n",
              "      <td>0.00096</td>\n",
              "      <td>0.129424</td>\n",
              "      <td>0.02870</td>\n",
              "      <td>10671443.40</td>\n",
              "      <td>3.718273e+08</td>\n",
              "      <td>4.509552</td>\n",
              "    </tr>\n",
              "    <tr>\n",
              "      <th>3</th>\n",
              "      <td>2850</td>\n",
              "      <td>8.852</td>\n",
              "      <td>1160</td>\n",
              "      <td>1.2122</td>\n",
              "      <td>425</td>\n",
              "      <td>0.00101</td>\n",
              "      <td>0.201326</td>\n",
              "      <td>0.04695</td>\n",
              "      <td>17301676.60</td>\n",
              "      <td>3.685128e+08</td>\n",
              "      <td>4.288103</td>\n",
              "    </tr>\n",
              "    <tr>\n",
              "      <th>4</th>\n",
              "      <td>2700</td>\n",
              "      <td>11.503</td>\n",
              "      <td>1235</td>\n",
              "      <td>1.2022</td>\n",
              "      <td>401</td>\n",
              "      <td>0.00107</td>\n",
              "      <td>0.287609</td>\n",
              "      <td>0.06773</td>\n",
              "      <td>24093953.74</td>\n",
              "      <td>3.557353e+08</td>\n",
              "      <td>4.246408</td>\n",
              "    </tr>\n",
              "  </tbody>\n",
              "</table>\n",
              "</div>"
            ],
            "text/plain": [
              "   Pressure psi  Np (MMSTB)  Rp (scf/STB)  ...            F          F/Eo     Eg/Eo\n",
              "0          3330       0.000             0  ...         0.00           NaN       NaN\n",
              "1          3150       3.295          1050  ...   5807305.70  3.988534e+08  4.938345\n",
              "2          3000       5.903          1060  ...  10671443.40  3.718273e+08  4.509552\n",
              "3          2850       8.852          1160  ...  17301676.60  3.685128e+08  4.288103\n",
              "4          2700      11.503          1235  ...  24093953.74  3.557353e+08  4.246408\n",
              "\n",
              "[5 rows x 11 columns]"
            ]
          },
          "metadata": {
            "tags": []
          },
          "execution_count": 172
        }
      ]
    },
    {
      "cell_type": "markdown",
      "metadata": {
        "id": "uGtBtPyt5zpM",
        "colab_type": "text"
      },
      "source": [
        "Here, since this is the case where both 'N' & 'm' are unknown, therefore we need to plot a graph between '(F/Eo) and (Eg/Eo) to get the slope and intercept. Hence we add the values of F/Eo & Eg/Eo to the table."
      ]
    },
    {
      "cell_type": "code",
      "metadata": {
        "id": "iXm0srMjn7Xg",
        "colab_type": "code",
        "colab": {
          "base_uri": "https://localhost:8080/",
          "height": 239
        },
        "outputId": "2eacc45e-642a-4a99-d713-f85f72e2642c"
      },
      "source": [
        "for column in ['F/Eo']:\n",
        "  df[column] = df[column].replace(np.NaN,0)\n",
        "for column in ['Eg/Eo']:\n",
        "  df[column] = df[column].replace(np.NaN,0)\n",
        "df.head()"
      ],
      "execution_count": 173,
      "outputs": [
        {
          "output_type": "execute_result",
          "data": {
            "text/html": [
              "<div>\n",
              "<style scoped>\n",
              "    .dataframe tbody tr th:only-of-type {\n",
              "        vertical-align: middle;\n",
              "    }\n",
              "\n",
              "    .dataframe tbody tr th {\n",
              "        vertical-align: top;\n",
              "    }\n",
              "\n",
              "    .dataframe thead th {\n",
              "        text-align: right;\n",
              "    }\n",
              "</style>\n",
              "<table border=\"1\" class=\"dataframe\">\n",
              "  <thead>\n",
              "    <tr style=\"text-align: right;\">\n",
              "      <th></th>\n",
              "      <th>Pressure psi</th>\n",
              "      <th>Np (MMSTB)</th>\n",
              "      <th>Rp (scf/STB)</th>\n",
              "      <th>Bo (RB/STB)</th>\n",
              "      <th>Rs (scf/STB)</th>\n",
              "      <th>Bg (RB/scf)</th>\n",
              "      <th>Eg</th>\n",
              "      <th>Eo</th>\n",
              "      <th>F</th>\n",
              "      <th>F/Eo</th>\n",
              "      <th>Eg/Eo</th>\n",
              "    </tr>\n",
              "  </thead>\n",
              "  <tbody>\n",
              "    <tr>\n",
              "      <th>0</th>\n",
              "      <td>3330</td>\n",
              "      <td>0.000</td>\n",
              "      <td>0</td>\n",
              "      <td>1.2511</td>\n",
              "      <td>510</td>\n",
              "      <td>0.00087</td>\n",
              "      <td>0.000000</td>\n",
              "      <td>0.00000</td>\n",
              "      <td>0.00</td>\n",
              "      <td>0.000000e+00</td>\n",
              "      <td>0.000000</td>\n",
              "    </tr>\n",
              "    <tr>\n",
              "      <th>1</th>\n",
              "      <td>3150</td>\n",
              "      <td>3.295</td>\n",
              "      <td>1050</td>\n",
              "      <td>1.2353</td>\n",
              "      <td>477</td>\n",
              "      <td>0.00092</td>\n",
              "      <td>0.071902</td>\n",
              "      <td>0.01456</td>\n",
              "      <td>5807305.70</td>\n",
              "      <td>3.988534e+08</td>\n",
              "      <td>4.938345</td>\n",
              "    </tr>\n",
              "    <tr>\n",
              "      <th>2</th>\n",
              "      <td>3000</td>\n",
              "      <td>5.903</td>\n",
              "      <td>1060</td>\n",
              "      <td>1.2222</td>\n",
              "      <td>450</td>\n",
              "      <td>0.00096</td>\n",
              "      <td>0.129424</td>\n",
              "      <td>0.02870</td>\n",
              "      <td>10671443.40</td>\n",
              "      <td>3.718273e+08</td>\n",
              "      <td>4.509552</td>\n",
              "    </tr>\n",
              "    <tr>\n",
              "      <th>3</th>\n",
              "      <td>2850</td>\n",
              "      <td>8.852</td>\n",
              "      <td>1160</td>\n",
              "      <td>1.2122</td>\n",
              "      <td>425</td>\n",
              "      <td>0.00101</td>\n",
              "      <td>0.201326</td>\n",
              "      <td>0.04695</td>\n",
              "      <td>17301676.60</td>\n",
              "      <td>3.685128e+08</td>\n",
              "      <td>4.288103</td>\n",
              "    </tr>\n",
              "    <tr>\n",
              "      <th>4</th>\n",
              "      <td>2700</td>\n",
              "      <td>11.503</td>\n",
              "      <td>1235</td>\n",
              "      <td>1.2022</td>\n",
              "      <td>401</td>\n",
              "      <td>0.00107</td>\n",
              "      <td>0.287609</td>\n",
              "      <td>0.06773</td>\n",
              "      <td>24093953.74</td>\n",
              "      <td>3.557353e+08</td>\n",
              "      <td>4.246408</td>\n",
              "    </tr>\n",
              "  </tbody>\n",
              "</table>\n",
              "</div>"
            ],
            "text/plain": [
              "   Pressure psi  Np (MMSTB)  Rp (scf/STB)  ...            F          F/Eo     Eg/Eo\n",
              "0          3330       0.000             0  ...         0.00  0.000000e+00  0.000000\n",
              "1          3150       3.295          1050  ...   5807305.70  3.988534e+08  4.938345\n",
              "2          3000       5.903          1060  ...  10671443.40  3.718273e+08  4.509552\n",
              "3          2850       8.852          1160  ...  17301676.60  3.685128e+08  4.288103\n",
              "4          2700      11.503          1235  ...  24093953.74  3.557353e+08  4.246408\n",
              "\n",
              "[5 rows x 11 columns]"
            ]
          },
          "metadata": {
            "tags": []
          },
          "execution_count": 173
        }
      ]
    },
    {
      "cell_type": "markdown",
      "metadata": {
        "id": "WYBUjLXT6hmR",
        "colab_type": "text"
      },
      "source": [
        "Replaced the null values with zero although there is no need to do this as we will plot considering 2nd row onwards."
      ]
    },
    {
      "cell_type": "code",
      "metadata": {
        "id": "02t8NB_8qAaG",
        "colab_type": "code",
        "colab": {}
      },
      "source": [
        "from scipy import stats"
      ],
      "execution_count": 0,
      "outputs": []
    },
    {
      "cell_type": "code",
      "metadata": {
        "id": "jbDer_KNtEXK",
        "colab_type": "code",
        "colab": {}
      },
      "source": [
        "X = df.loc[1:,'Eg/Eo']\n",
        "Y = df.loc[1:,'F/Eo']"
      ],
      "execution_count": 0,
      "outputs": []
    },
    {
      "cell_type": "markdown",
      "metadata": {
        "id": "tVO1WcJU6wWr",
        "colab_type": "text"
      },
      "source": [
        "Here, We have assigned the X and Y axis of the plot with Eg/Eo and F/Eo respectively."
      ]
    },
    {
      "cell_type": "code",
      "metadata": {
        "id": "vHpXk6OntMeo",
        "colab_type": "code",
        "colab": {}
      },
      "source": [
        "slope, intercept, r, p, std_err = stats.linregress(X, Y)\n",
        "\n",
        "def myfunc(X):\n",
        "  return slope * X + intercept\n",
        "\n",
        "mymodel = list(map(myfunc, X))"
      ],
      "execution_count": 0,
      "outputs": []
    },
    {
      "cell_type": "markdown",
      "metadata": {
        "id": "RVxUysup6-tN",
        "colab_type": "text"
      },
      "source": [
        "We have performed linear regression by importing the 'stats' module from the 'scipy' library."
      ]
    },
    {
      "cell_type": "code",
      "metadata": {
        "id": "iZmzM5EYtZxP",
        "colab_type": "code",
        "colab": {
          "base_uri": "https://localhost:8080/",
          "height": 276
        },
        "outputId": "9e100ace-9c2c-4f81-f48a-a877554934c9"
      },
      "source": [
        "plt.scatter(X, Y)\n",
        "plt.plot(X, mymodel)\n",
        "plt.show()"
      ],
      "execution_count": 177,
      "outputs": [
        {
          "output_type": "display_data",
          "data": {
            "image/png": "[encoded data removed]",
            "text/plain": [
              "<Figure size 432x288 with 1 Axes>"
            ]
          },
          "metadata": {
            "tags": [],
            "needs_background": "light"
          }
        }
      ]
    },
    {
      "cell_type": "markdown",
      "metadata": {
        "id": "uONbhLao74tX",
        "colab_type": "text"
      },
      "source": [
        "This is the plot and this is not very clear at depicting because of the difference in magnitude of X and Y axis values. Y axis values are larger than X axis."
      ]
    },
    {
      "cell_type": "code",
      "metadata": {
        "id": "0T6IW0tgzQZB",
        "colab_type": "code",
        "colab": {
          "base_uri": "https://localhost:8080/",
          "height": 52
        },
        "outputId": "1298c9c6-68d5-44b0-96c5-c43aa2d4ee76"
      },
      "source": [
        "Nm = slope\n",
        "N = intercept\n",
        "print(N)\n",
        "print(Nm)"
      ],
      "execution_count": 178,
      "outputs": [
        {
          "output_type": "stream",
          "text": [
            "108702727.37219977\n",
            "58830133.75844256\n"
          ],
          "name": "stdout"
        }
      ]
    },
    {
      "cell_type": "markdown",
      "metadata": {
        "id": "tymMbDun77vg",
        "colab_type": "text"
      },
      "source": [
        "Hence, we obtain the intercept which depicts the initial stock tank barrel of oil and the slope from where we will be finding 'm'which will help us to calculate initial gas in place. Initial oil in place comes out to be 108.70 MMSTB."
      ]
    },
    {
      "cell_type": "code",
      "metadata": {
        "id": "VMd3AGi3z_fv",
        "colab_type": "code",
        "colab": {
          "base_uri": "https://localhost:8080/",
          "height": 35
        },
        "outputId": "2f28f349-634c-4c16-fe39-fbfa3416a472"
      },
      "source": [
        "m = Nm/N\n",
        "print(m)"
      ],
      "execution_count": 179,
      "outputs": [
        {
          "output_type": "stream",
          "text": [
            "0.5412020027520312\n"
          ],
          "name": "stdout"
        }
      ]
    },
    {
      "cell_type": "markdown",
      "metadata": {
        "id": "Tx55VlB38T7h",
        "colab_type": "text"
      },
      "source": [
        "This gives us the value of 'm'."
      ]
    },
    {
      "cell_type": "code",
      "metadata": {
        "id": "ZtiXBhiN26Xe",
        "colab_type": "code",
        "colab": {
          "base_uri": "https://localhost:8080/",
          "height": 35
        },
        "outputId": "e0aa8ea5-e218-4b30-f121-879ab0ca3965"
      },
      "source": [
        "G = (Nm * boi)/ bgi\n",
        "print(G)"
      ],
      "execution_count": 180,
      "outputs": [
        {
          "output_type": "stream",
          "text": [
            "84600437178.37642\n"
          ],
          "name": "stdout"
        }
      ]
    },
    {
      "cell_type": "markdown",
      "metadata": {
        "id": "RkvjHVe58ZQh",
        "colab_type": "text"
      },
      "source": [
        "Hence, we calculated the initial gas in place which comes out to be 84.6 MMMscf."
      ]
    }
  ]
}